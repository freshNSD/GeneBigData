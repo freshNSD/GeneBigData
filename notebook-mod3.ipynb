{
 "cells": [
  {
   "cell_type": "markdown",
   "metadata": {},
   "source": [
    "# Module 3 R Notebook\n",
    "# Finding Differentially Expressed Genes\n",
    "\n",
    "## Important note - read first\n",
    "\n",
    "In this course, you are not required to become proficient in writing R scripts for Big Biomedical Data Analytics. The assignments will be based on each module's template, and replacing some parts of them with new data and parameters so that you will get new results and interpret them. \n",
    "\n",
    "Understanding all the coding details in R will depend on your bakcground knowledge in programming concepts. \n",
    "\n",
    "Therefore if you do not understand all the coding details in R, try to run the code and understand mostly: \n",
    "\n",
    "1) what information do I have to provide to this script to make it work ?\n",
    "\n",
    "2) how to execute this script (it will always be: run the cell containing the script Cell --> Run cells, or click on SHIFT + ENTER at the same time, or simply click on the right arrow icon) ?\n",
    "\n",
    "3) what results do I get ?\n",
    "\n",
    "4) how to interpret the results ?\n",
    "\n",
    "Little by little, you will become familiar with R programming language and, example after example, you will understand the scripts and be ready for more advanced programming work. \n",
    "\n",
    "## Assignment goals\n",
    "\n",
    "In this notebook, you are going to practice selecting features with R scripts, and particularly differentially expressed genes. This implies selecting features representing genes expressed differently between two groups, such as a normal group and a disease group. \n",
    "\n",
    "One strategy would be to compare gene expressions between a group of patients and a standard normal individual or group of normal individuals. \n",
    "\n",
    "Here we are choosing a breast cancer dataset downloaded from Firehose (https://gdac.broadinstitute.org/). These are next generation sequncing data that are provided already normalized. \n",
    "\n",
    "So let us get started !\n",
    "\n",
    "## Preparing the environment\n",
    "\n",
    "Good news, we do not have to use external libraries for this analysis !\n"
   ]
  },
  {
   "cell_type": "markdown",
   "metadata": {},
   "source": [
    "## Loading the data\n",
    "\n",
    "The dataset we are loading is called  \"BRCA.rnaseqv2__illuminahiseq_rnaseqv2__unc_edu__Level_3__RSEM_genes_normalized__data.data.txt\". \n",
    "\n",
    "It looks like this: \n",
    "\n",
    "Hybridization REF TCGA.3C.AAAU.01A.11R.A41B.07 TCGA.3C.AALI.01A.11R.A41B.07 ...\n",
    "\n",
    "gene_id                normalized_count             normalized_count        ...                      \n",
    "\n",
    "?|100130426                 0.0000                       0.0000             ...        \n",
    "\n",
    "This dataset has genes as rows and patients as columns. Patient IDs refer to TCGA IDs such as TCGA.3C.AAAU.01A.11R.A41B.07, etc. The top two lines of the file are header information, and we direct 'read.table' to skip these two lines since we only want the gene expressions to be placed in a dataframe we call 'mrnaNorm'. \n",
    "The first column of 'mrnaNorm'  contains the list of genes measured.\n",
    "\n",
    "Since this is a large datset, you will have to wait until the '[*]' becomes a number in cell #1 to progress to the next cell."
   ]
  },
  {
   "cell_type": "code",
   "execution_count": null,
   "metadata": {
    "collapsed": false
   },
   "outputs": [],
   "source": [
    "# cell #1\n",
    "mrnaNorm <- read.table(\"/data/BRCA.rnaseqv2__illuminahiseq_rnaseqv2__unc_edu__Level_3__RSEM_genes_normalized__data.data.txt\", \n",
    "            header = F, fill = T, skip = 2)\n",
    "class(mrnaNorm)"
   ]
  },
  {
   "cell_type": "markdown",
   "metadata": {},
   "source": [
    "We also want the patient IDs in the first row, which is why we read only this first line and place it in a second dataframe callses 'mrnaIDs'. \n",
    "We also remove the first column with '[, -1]', the one entitled 'Hybridization REF', because it is not a patientID."
   ]
  },
  {
   "cell_type": "code",
   "execution_count": null,
   "metadata": {
    "collapsed": false
   },
   "outputs": [],
   "source": [
    "# cell #2\n",
    "mrnaIDs <- read.table(\"/data/BRCA.rnaseqv2__illuminahiseq_rnaseqv2__unc_edu__Level_3__RSEM_genes_normalized__data.data.txt\", \n",
    "            header = F, fill = T, nrows = 1)\n",
    "class(mrnaIDs)\n",
    "dim(mrnaIDs)\n",
    "mrnaIDs <- mrnaIDs[, -1][, -1]  # remove the first solumn \"Hybridization REF\" which spans two columns because of the space between the two words\n",
    "dim(mrnaIDs)"
   ]
  },
  {
   "cell_type": "markdown",
   "metadata": {},
   "source": [
    "## Data preprocessing\n",
    "\n",
    "Next we take a look at our data. Since this is a very large dataset, we are not going to display all the rows and columns, but only the first 5 rows and columns.\n",
    "'mrnaNorm' contains 20,531 rows, representing the genes and their expressions, and 1213 columns (1212 subjects and the first column containing gene names)."
   ]
  },
  {
   "cell_type": "code",
   "execution_count": null,
   "metadata": {
    "collapsed": false,
    "scrolled": true
   },
   "outputs": [],
   "source": [
    "# cell #3\n",
    "dim(mrnaNorm)\n",
    "dim(mrnaIDs)\n",
    "mrnaIDs5 = mrnaIDs[,c(1,2,3,4,5)] # extract first 5 patientIDs\n",
    "mrnaNorm5x5 = mrnaNorm[1:5, 1:5] # first 5 rows and columns \n",
    "head(mrnaIDs5, 2) # display first two rows\n",
    "head(mrnaNorm, 2) # display first two rows\n",
    "summary(mrnaNorm5x5) # summary statistics"
   ]
  },
  {
   "cell_type": "markdown",
   "metadata": {},
   "source": [
    "The following instruction analyzes the patient IDs because the IDs can tell us whether a particular column is from a normal sample or a tumor sample. \n",
    "TCGA has data both from tumor samples and from normal samples taken from the same patient. This information can be found in the label of the column. For example in ID:\n",
    "TCGA.3C.AAAU.01A.11R.A41B.07 \n",
    "the type of sample is indicated in the 4th group: 01A.\n",
    "Tumor types range from 01 - 09, normal types from 10 - 19 and control samples from 20 - 29.\n",
    "Therefore we are extracting in the cell below this code indicating whether the sample is from normal or not. \n",
    "This group is the fourth in the ID character string, obtained with 'strsplit', and we get the two characters of interest by taking the first two characters with 'substr'.\n",
    "We do this for all the IDs by applying with 'lapply' the same process to all the IDs in 'mrnaIDs'."
   ]
  },
  {
   "cell_type": "code",
   "execution_count": null,
   "metadata": {
    "collapsed": false
   },
   "outputs": [],
   "source": [
    "# cell #4\n",
    "samp <- lapply(as.list(t(mrnaIDs)), function(t) substr(unlist(strsplit(t, \"-\"))[4], 1, 2))\n",
    "# extract the sample type (tumor / normal), excluding the first column since it is a gene ID\n",
    "sampleType <- as.data.frame(samp)\n",
    "dim(sampleType)\n",
    "# 1 1212"
   ]
  },
  {
   "cell_type": "markdown",
   "metadata": {},
   "source": [
    "Next we are going to count how many normals and how many tumor samples we have. \n",
    "The function 'unique' gives us the different types we have. \n",
    "The function 'table' calculates how many samples we have of each type. We see that we have 1100 of type '01' or '06' for tumor, and 112 of type '11' for normal."
   ]
  },
  {
   "cell_type": "code",
   "execution_count": null,
   "metadata": {
    "collapsed": false
   },
   "outputs": [],
   "source": [
    "# cell #5\n",
    "unique(sampleType)\n",
    "# extracts how many unique objects there are \n",
    "\n",
    "tab <- table(unlist(sampleType))\n",
    "tab\n",
    "# count how many of each type\n",
    "#   01   06   11 \n",
    "#  1093   7  112 "
   ]
  },
  {
   "cell_type": "markdown",
   "metadata": {},
   "source": [
    "We are going to associate a class of '1' for the tumor samples and of '0' for the normal samples. We check that we have 112 normals (class '0') and 1100 tumors (class '1').\n",
    "We do this for all the types by applying with 'lapply' the same process to all the types in 'samp'."
   ]
  },
  {
   "cell_type": "code",
   "execution_count": null,
   "metadata": {
    "collapsed": false
   },
   "outputs": [],
   "source": [
    "# cell #6\n",
    "sampClass <- lapply(samp, function(t) (if (t < 10) return(\"1\") else return(\"0\")))\n",
    "mrnaClass <- as.data.frame(sampClass)\n",
    "dim(mrnaClass)\n",
    "table(unlist(sampClass))\n",
    "#   0    1 \n",
    "# 112 1100 "
   ]
  },
  {
   "cell_type": "markdown",
   "metadata": {},
   "source": [
    "Since in some cases we may need the class as a number (and not a character), we create as well a list of classes as numbers."
   ]
  },
  {
   "cell_type": "code",
   "execution_count": null,
   "metadata": {
    "collapsed": true
   },
   "outputs": [],
   "source": [
    "# cell #7\n",
    "sampClassNum <- lapply(samp, function(t) (if (t < 10) return(1) else return(0)))\n",
    "mrnaClassNum <- as.data.frame(sampClassNum) "
   ]
  },
  {
   "cell_type": "markdown",
   "metadata": {},
   "source": [
    "Here I provide a function that calculates a ranking of features (genes in this case) with the BSS/WSS method. You do not need to understand all the details - only to execute the following cell. This will make the bssWssFast function available for later processing."
   ]
  },
  {
   "cell_type": "code",
   "execution_count": null,
   "metadata": {
    "collapsed": true
   },
   "outputs": [],
   "source": [
    "# cell #8\n",
    "bssWssFast <- function (X, givenClassArr, numClass=2)\n",
    "# between squares / within square feature selection\n",
    "{\n",
    "\tclassVec <- matrix(0, numClass, length(givenClassArr))\n",
    "\tfor (k in 1:numClass) {\n",
    "\t\ttemp <- rep(0, length(givenClassArr))\n",
    "\t\ttemp[givenClassArr == (k - 1)] <- 1\n",
    "\t\tclassVec[k, ] <- temp\n",
    "\t}\n",
    "\tclassMeanArr <- rep(0, numClass)\n",
    "\tratio <- rep(0, ncol(X))\n",
    "\tfor (j in 1:ncol(X)) {\n",
    "\t\toverallMean <- sum(X[, j]) / length(X[, j])\n",
    "\t\tfor (k in 1:numClass) {\n",
    "\t\t\tclassMeanArr[k] <- \n",
    "\t\t\t\tsum(classVec[k, ] * X[, j]) / sum(classVec[k, ])\n",
    "\t\t}\n",
    "\t  classMeanVec <- classMeanArr[givenClassArr + 1]\n",
    "\t  bss <- sum((classMeanVec - overallMean)^2)\n",
    "\t  wss <- sum((X[, j] - classMeanVec)^2)\n",
    "\t  ratio[j] <- bss/wss\n",
    "\t}\n",
    "      sort(ratio, decreasing = TRUE, index = TRUE)\n",
    "}"
   ]
  },
  {
   "cell_type": "markdown",
   "metadata": {},
   "source": [
    "## Feature selection with BSS/WSS\n",
    "\n",
    "We are now ready to select features. \n",
    "\n",
    "We invoke the bssWSSFast function by passing to it the dataframe of gene expressions 'mrnaNorm' (all numeric, after excluding the first column, which is not numeric since it contains gene names) and another dataframe of classes associated with each sample. Note that we also transpose the 'mrnaNprm' dataframe because we watb to select genes, therefore the genes need to be feature / columns, while in 'mrnaNorm' genes are rows. By transposing 'mrnaNorm' and excluding the first column, we obtain a dataframe that looks like this ('t(mrnaNorm[, -1])'):\n",
    "\n",
    "             gene1           gene2            gene3        ...\n",
    "    \n",
    "patient1   expression 1     expression 2      expression3    ...\n",
    "\n",
    "patient2   expression 1     expression 2      expression3    ...\n",
    "\n",
    "\n",
    "bssWssFast will return a dataframe with the features/genes column numbers ranked by decreasing order of importance according to bssWss ratio. \n",
    "\n",
    "bss$ix[1] refers to column 'ix' of bss, and could also be expressed by bss[,ix][1]. column 'ix' contains a list of indexes in 'mrnaNorm'.\n"
   ]
  },
  {
   "cell_type": "code",
   "execution_count": null,
   "metadata": {
    "collapsed": false
   },
   "outputs": [],
   "source": [
    "# cell #9\n",
    "bss <- bssWssFast(t(mrnaNorm[, -1]), t(mrnaClassNum), 2)\n",
    "# returns a list with two elements: a list of bss/wss ratios in decreasing order bss[1] and a list of features bss[2]\n",
    "\n",
    "bss$ix[1:50]\n",
    "# show list of 50 ranked gene indexes"
   ]
  },
  {
   "cell_type": "markdown",
   "metadata": {},
   "source": [
    "We can then list the genes by their name as provided in the 'mrnaNorm' dataset, where the first column is the list of gene names. The names have two codes separated by character '|':\n",
    "\n",
    "HUGO code\n",
    "Entrez code\n",
    "\n",
    "For example, FHL1|2273 is gene with HUGO code FHL1 and Entrez code 2273.\n",
    "\n",
    "We will continue working on these genes in a future module."
   ]
  },
  {
   "cell_type": "code",
   "execution_count": null,
   "metadata": {
    "collapsed": false
   },
   "outputs": [],
   "source": [
    "# cell #10\n",
    "genes <- mrnaNorm[bss$ix[1:50],1]\n",
    "genes\n",
    "# show list of 50 tanked gene names\n",
    "# [1] FHL1|2273        ADAMTS4|9507     ABAT|18          PAG1|55824       ARHGAP1|392     \n",
    "# [6] TP53TG3B|729355  SCRN3|79634      TIE1|7075        SNRPA|6626       SCCPDH|51097    \n",
    "#[11] PCYT1B|9468      DSE|29940        LGI4|163175      LIX1L|128077     LCE3D|84648     \n",
    "#[16] POTEE|445582     GIMAP2|26157     CABYR|26256      PLGLA|285189     LRRC57|255252   \n",
    "#[21] C21orf33|8209    CDC14A|8556      CD300LF|146722   CEP57|9702       MAGEC2|51438    \n",
    "#[26] LGALS3|3958      CAT|847          LOC647979|647979 ABCA8|10351      PPIL3|53938     \n",
    "#[31] EFCAB1|79645     CCDC45|90799     ABCA5|23461      CAV1|857         TP53I3|9540     \n",
    "#[36] ADRB1|153        SOD1|6647        LDLRAP1|26119    LYPLA1|10434     KLHL10|317719   \n",
    "#[41] HLA-DPB1|3115    SGCG|6445        MLL2|8085        FGD4|121512      CD33|945        \n",
    "#[46] BMS1|9790        MARCKSL1|65108   BTNL8|79908      SS18L2|51188     ABCA7|10347   \n"
   ]
  },
  {
   "cell_type": "markdown",
   "metadata": {},
   "source": [
    "## Heatmap\n",
    "\n",
    "Heatmaps are visualizations that represent the level of a variable across different samples or groups using different colors to represent levels.\n",
    "\n",
    "In this particular example, we would like to represent the different expression levels of some of the genes selected above between normal and tumor samples. \n",
    "\n",
    "We will represent tumor samples in red and normals as blue at the top.\n",
    "\n",
    "First we are going to select the top 100 genes ranked, and associate the class values 0/1 in a row at the bottom of mrnaSetClass.\n",
    "\n",
    "Because selection by column is easier, we transpose the dataframe (inverse tows and columns).\n",
    "\n",
    "We then separate the normals and the tumors in two datasets, selecting only 112 tumors so that we have an equal number of normals and tumors.\n",
    "\n",
    "We then combine the two sets together.\n",
    "\n",
    "We draw the heatmap by selecting several options:\n",
    " \n",
    "1) we choose a color scheme as red for tumors and blue for normals for the top bar.\n",
    "\n",
    "2) we apply the color scheme to the classes in the 'both' dataframe.\n",
    "\n",
    "3) we draw the heatmp with options 'scale = \"row\"' to normalize the rows (gene values), 'col=topo.colors(100)' as a color scheme for the heatmap cells, and 'ColSideColors=groupColors' to specify the colors chosen for the side bars.\n",
    "\n",
    "What we find on the heatmap is that it finds several groupins in the patients, mostly two groups of normals, and two groups of tumors. So this is interesting. We can also see some gene expressions characterizing the groups.\n"
   ]
  },
  {
   "cell_type": "code",
   "execution_count": null,
   "metadata": {
    "collapsed": false
   },
   "outputs": [],
   "source": [
    "# cell #11\n",
    "# merge class values into mrnaNorm as the last row  - after the genes and select only top 100 genes\n",
    "mrnaSetClass <- rbind(mrnaNorm[bss$ix[1:100],-1], setNames(mrnaClassNum, names(mrnaNorm[,-1])))\n",
    "dim(mrnaSetClass)\n",
    "# 101  1212       101 genes as rows and 1212 patients as columns\n",
    "# to select by class, transpose the matrix\n",
    "transpose <- as.data.frame(t(mrnaSetClass))\n",
    "colnames(transpose)[101] <- \"class\"\n",
    "# select normals\n",
    "normals <- subset(transpose, transpose$class == 0)\n",
    "dim(normals)\n",
    "#[1] 112 101\n",
    "# select tumors\n",
    "tumors <- subset(transpose, transpose$class == 1)\n",
    "dim(tumors)\n",
    "#[1] 1100 101\n",
    "# combine them together\n",
    "both <- rbind(normals, tumors[1:112,])\n",
    "dim(both)\n",
    "# select a color scheme - red for tumor and blue for normal\n",
    "color.map <- function(class) { if (class==0) \"#FF0000\" else \"#0000FF\" } # red for tumor and blue for normal\n",
    "# create heatmap\n",
    "groupColors <- unlist(lapply(both$class, color.map))\n",
    "heatmap(as.matrix(t(both)), scale = \"row\", col=topo.colors(100), ColSideColors=groupColors)"
   ]
  }
 ],
 "metadata": {
  "anaconda-cloud": {},
  "kernelspec": {
   "display_name": "R",
   "language": "R",
   "name": "ir"
  },
  "language_info": {
   "codemirror_mode": "r",
   "file_extension": ".r",
   "mimetype": "text/x-r-source",
   "name": "R",
   "pygments_lexer": "r",
   "version": "3.2.2"
  }
 },
 "nbformat": 4,
 "nbformat_minor": 0
}
