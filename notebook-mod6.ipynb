{
 "cells": [
  {
   "cell_type": "markdown",
   "metadata": {},
   "source": [
    "# Module 6 R Notebook\n",
    "\n",
    "# Clustering and Pathway Analysis\n",
    "\n",
    "## Important note - read first\n",
    "\n",
    "In this course, you are not required to become proficient in writing R scripts for Big Biomedical Data Analytics. The assignments will be based on each module's template, and replacing some parts of them with new data and parameters so that you will get new results and interpret them. \n",
    "\n",
    "Understanding all the coding details in R will depend on your bakcground knowledge in programming concepts. \n",
    "\n",
    "Therefore if you do not understand all the coding details in R, try to run the code and understand mostly: \n",
    "\n",
    "1) what information do I have to provide to this script to make it work ?\n",
    "\n",
    "2) how to execute this script (it will always be: run the cell containing the script Cell --> Run cells, or click on SHIFT + ENTER at the same time, or simply click on the right arrow icon) ?\n",
    "\n",
    "3) what results do I get ?\n",
    "\n",
    "4) how to interpret the results ?\n",
    "\n",
    "Little by little, you will become familiar with R programming language and, example after example, you will understand the scripts and be ready for more advanced programming work. \n",
    "\n",
    "## Assignment goals\n",
    "\n",
    "In this notebook, you are going to practice clustering and pathway analysis with R scripts.\n",
    "\n",
    "Here we are continuing to work on a breast cancer dataset downloaded from Firehose (https://gdac.broadinstitute.org/). These are next generation sequencing data that are provided already normalized. \n",
    "\n",
    "We are going to compare three clustering methods - K-Means, Pam (K-Means alternative), and dbscan (density-based clustering). We will also perform gene pathway enrichment on the set of genes previously identified for this dataset.\n",
    "\n",
    "Each time we will reflect on which clustering results is better. These are some the questions we will try and answer.  \n",
    "\n",
    "So let us get started !\n",
    "\n",
    "## Preparing the environment\n",
    "\n",
    "The processes employed to build clustering models use quite a bit of RAM memory, therefore we first allocate this memory by increasaing the program memory size to 3.5GB (= 3,500 MB). We also load some libraries used for analysis - 'cluster' and 'ReactomePA'."
   ]
  },
  {
   "cell_type": "code",
   "execution_count": null,
   "metadata": {
    "collapsed": false
   },
   "outputs": [],
   "source": [
    "# cell #2\n",
    "memory.limit(size=3500)\n",
    "library(cluster)\n",
    "library(ReactomePA)"
   ]
  },
  {
   "cell_type": "markdown",
   "metadata": {},
   "source": [
    "## Loading the data\n",
    "\n",
    "We again load the data as we did in modules 3 and 4. We create a dataframe (a spreadsheet) 'mrnaNorm' with the gene expression values and the first column being the gene names. The second dataframe 'mrnaIDs' contains the IDs of the patients. "
   ]
  },
  {
   "cell_type": "code",
   "execution_count": null,
   "metadata": {
    "collapsed": false
   },
   "outputs": [],
   "source": [
    "# cell #3\n",
    "mrnaNorm <- read.table(\"/data/BRCA.rnaseqv2__illuminahiseq_rnaseqv2__unc_edu__Level_3__RSEM_genes_normalized__data.data.txt\", \n",
    "            header = F, fill = T, skip = 2)\n",
    "mrnaIDs <- read.table(\"/data/BRCA.rnaseqv2__illuminahiseq_rnaseqv2__unc_edu__Level_3__RSEM_genes_normalized__data.data.txt\", \n",
    "            header = F, fill = T, nrows = 1)\n",
    "mrnaIDs <- mrnaIDs[, -1][, -1]"
   ]
  },
  {
   "cell_type": "markdown",
   "metadata": {},
   "source": [
    "## Data preprocessing\n",
    "\n",
    "'mrnaClass' and 'mrnaClassNum' are created and contain the diagnostic class - 0 for normal and 1 for tumor."
   ]
  },
  {
   "cell_type": "code",
   "execution_count": null,
   "metadata": {
    "collapsed": false
   },
   "outputs": [],
   "source": [
    "# cell #3\n",
    "samp <- lapply(as.list(t(mrnaIDs)), function(t) substr(unlist(strsplit(t, \"-\"))[4], 1, 2))\n",
    "sampleType <- as.data.frame(samp)\n",
    "sampClass <- lapply(samp, function(t) (if (t < 10) return(\"1\") else return(\"0\")))\n",
    "mrnaClass <- as.data.frame(sampClass)\n",
    "dim(mrnaNorm)\n",
    "# 20531 1213 columns are patients (except the 1st for gene name) rows are expression levels for each gene\n",
    "dim(mrnaIDs)\n",
    "# 1 1213   the first column is the gene name, the others are one patient per row\n",
    "dim(mrnaClass)\n",
    "# 1 1212 one patients per row   1 = tumor, 0 = normal\n",
    "table(unlist(sampClass))\n",
    "#   0    1 \n",
    "# 112 1100                     112 normals and 1100 tumor\n",
    "sampClassNum <- lapply(samp, function(t) (if (t < 10) return(1) else return(0)))\n",
    "mrnaClassNum <- as.data.frame(sampClassNum) "
   ]
  },
  {
   "cell_type": "markdown",
   "metadata": {
    "collapsed": false
   },
   "source": [
    "We also create a dataframe with only the gene names, called 'geneNames', which are located in the first column of 'mrnaNorm', which we extract."
   ]
  },
  {
   "cell_type": "code",
   "execution_count": null,
   "metadata": {
    "collapsed": false
   },
   "outputs": [],
   "source": [
    "# cell #4\n",
    "geneNames <- mrnaNorm[1] # extract the gene names from mrnaNorm as its first column\n",
    "dim(geneNames)\n",
    "# 20531 genes"
   ]
  },
  {
   "cell_type": "markdown",
   "metadata": {
    "collapsed": true
   },
   "source": [
    "next we transpose the 'mrnaNorm' dataframe because we want to select genes, therefore they have to be represented in columns instead of rows. We also remove the first column of 'mrnaNorm' since it contains the gene names.\n",
    "Because we are working with large datasets, we free space from memory by removing the objects we will not be using anymore. 'gc' garbage collects the free space, which will leave more space for building the models. The column 'used' and right after it '(Mb)' indicates the memory in use."
   ]
  },
  {
   "cell_type": "code",
   "execution_count": null,
   "metadata": {
    "collapsed": false
   },
   "outputs": [],
   "source": [
    "# cell #5\n",
    "mrnaData = t(mrnaNorm[, -1]) # remove first column of mrnaData and transpose it to have genes as columns\n",
    "rm(samp)\n",
    "rm(sampClass)\n",
    "rm(mrnaNorm)\n",
    "gc()"
   ]
  },
  {
   "cell_type": "markdown",
   "metadata": {},
   "source": [
    "## Feature selection with bss/wss\n",
    "\n",
    "Again, we select top genes with bss/wss. First we load the bssWssFast function."
   ]
  },
  {
   "cell_type": "code",
   "execution_count": null,
   "metadata": {
    "collapsed": true
   },
   "outputs": [],
   "source": [
    "# cell #6\n",
    "bssWssFast <- function (X, givenClassArr, numClass=2)\n",
    "# between squares / within square feature selection\n",
    "{\n",
    "\tclassVec <- matrix(0, numClass, length(givenClassArr))\n",
    "\tfor (k in 1:numClass) {\n",
    "\t\ttemp <- rep(0, length(givenClassArr))\n",
    "\t\ttemp[givenClassArr == (k - 1)] <- 1\n",
    "\t\tclassVec[k, ] <- temp\n",
    "\t}\n",
    "\tclassMeanArr <- rep(0, numClass)\n",
    "\tratio <- rep(0, ncol(X))\n",
    "\tfor (j in 1:ncol(X)) {\n",
    "\t\toverallMean <- sum(X[, j]) / length(X[, j])\n",
    "\t\tfor (k in 1:numClass) {\n",
    "\t\t\tclassMeanArr[k] <- \n",
    "\t\t\t\tsum(classVec[k, ] * X[, j]) / sum(classVec[k, ])\n",
    "\t\t}\n",
    "\t  classMeanVec <- classMeanArr[givenClassArr + 1]\n",
    "\t  bss <- sum((classMeanVec - overallMean)^2)\n",
    "\t  wss <- sum((X[, j] - classMeanVec)^2)\n",
    "\t  ratio[j] <- bss/wss\n",
    "\t}\n",
    "      sort(ratio, decreasing = TRUE, index = TRUE)\n",
    "}"
   ]
  },
  {
   "cell_type": "markdown",
   "metadata": {},
   "source": [
    "Then we again run 'bssWssFast' on our large dataset to rank the features within and across classes. We work from mrnaData, which is the transposed datafrom from 'mrnaNorm' dataframe because we want to select genes, therefore they have to be represented in columns instead of rows. \n",
    "\n",
    "We select the top 100 genes and create a subset of 'mrnaData' with these genes, called 'mrnaDataReduced'. This dataset has 1212 patients and 100 genes.\n",
    "\n",
    "We store the class in trainClasses."
   ]
  },
  {
   "cell_type": "code",
   "execution_count": null,
   "metadata": {
    "collapsed": false
   },
   "outputs": [],
   "source": [
    "# cell #7\n",
    "# select features\n",
    "dim(mrnaData)\n",
    "# 1212 20531  matrix\n",
    "dim(mrnaClass)\n",
    "# 1 1212\n",
    "dim(mrnaClassNum)\n",
    "# 1 1212\n",
    "dim(geneNames)\n",
    "# 20531 genes\n",
    "bss <- bssWssFast(mrnaData, t(mrnaClassNum), 2)\n",
    "mrnaDataReduced <- mrnaData[,bss$ix[1:100]]\n",
    "dim(mrnaDataReduced)\n",
    "# 1212  100\n",
    "trainClasses <- unlist(mrnaClassNum[1,], use.names=FALSE)"
   ]
  },
  {
   "cell_type": "markdown",
   "metadata": {},
   "source": [
    "## Clustering with KMeans\n",
    "\n",
    "We are going to find clusters with KMeans. Remember that this algorithm takes as input a number of clusters we want to find. Here we set this number to two - it makes sense wince we would like optimally that the normals and the tumor samples be placed in two different clusters. We set the random seed to a fixed number so that each time we run the algorithm, we get same results.\n",
    "\n",
    "We also look at the results and find that the two clusters have 13 and 1199 samples. 13 is far from the optimal number of 112 in the normal set."
   ]
  },
  {
   "cell_type": "code",
   "execution_count": null,
   "metadata": {
    "collapsed": false
   },
   "outputs": [],
   "source": [
    "# cell #8\n",
    "set.seed(20)\n",
    "kmeans.clusters <- kmeans(mrnaDataReduced, 2, nstart = 20)\n",
    "table(kmeans.clusters$cluster)"
   ]
  },
  {
   "cell_type": "markdown",
   "metadata": {},
   "source": [
    "Let us look how well this clustering matches our classes of 0 and 1. We can do this using 'table'.\n",
    "\n",
    "We can see that all the 1's are in the same - large - cluster. However there are 99 of 0's clustered in the same group as the 1's."
   ]
  },
  {
   "cell_type": "code",
   "execution_count": null,
   "metadata": {
    "collapsed": false
   },
   "outputs": [],
   "source": [
    "# cell #9\n",
    "table(kmeans.clusters$cluster, trainClasses)"
   ]
  },
  {
   "cell_type": "markdown",
   "metadata": {},
   "source": [
    "We can also plot the results and see the intersection between the two clusters. We also see that the clusters are ellipsoid or circular, which is probably why the results ae not perfect. "
   ]
  },
  {
   "cell_type": "code",
   "execution_count": null,
   "metadata": {
    "collapsed": false
   },
   "outputs": [],
   "source": [
    "# cell #10\n",
    "clusplot(mrnaDataReduced, kmeans.clusters$cluster, color=TRUE, shade=TRUE, \n",
    "  \tlabels=2, lines=0)"
   ]
  },
  {
   "cell_type": "markdown",
   "metadata": {},
   "source": [
    "## Clustering with Pam\n",
    "\n",
    "We are going to find clusters with Pam, which is an improvement over KMeans. Here as well it makes sense wince we would like optimally that the normals and the tumor samples be placed in two different clusters. \n",
    "\n",
    "We also look at the results and find that the two clusters have 36 and 1176 samples. 36 is far from the optimal number of 112 in the normal set, however it is better than the 13 of KMeans."
   ]
  },
  {
   "cell_type": "code",
   "execution_count": null,
   "metadata": {
    "collapsed": false
   },
   "outputs": [],
   "source": [
    "# cell #11\n",
    "pam.clusters <- pam(mrnaDataReduced, 2)\n",
    "table(pam.clusters$clustering)"
   ]
  },
  {
   "cell_type": "markdown",
   "metadata": {},
   "source": [
    "Let us look how well this clustering matches our classes of 0 and 1. We can do this using 'table'.\n",
    "\n",
    "We can see that all the 1's are in the same - large - cluster. However there are 76 of 0's clustered in the same group as the 1's."
   ]
  },
  {
   "cell_type": "code",
   "execution_count": null,
   "metadata": {
    "collapsed": false
   },
   "outputs": [],
   "source": [
    "# cell #12\n",
    "table(pam.clusters$clustering, trainClasses)"
   ]
  },
  {
   "cell_type": "markdown",
   "metadata": {},
   "source": [
    "We can also plot the results and see the intersection between the two clusters. We also see that the clusters are ellipsoid or convex, which is probably why the results ae not perfect. "
   ]
  },
  {
   "cell_type": "code",
   "execution_count": null,
   "metadata": {
    "collapsed": false
   },
   "outputs": [],
   "source": [
    "# cell #13\n",
    "clusplot(mrnaDataReduced, pam.clusters$clustering, color=TRUE, shade=TRUE, \n",
    "  \tlabels=2, lines=0)"
   ]
  },
  {
   "cell_type": "markdown",
   "metadata": {},
   "source": [
    "In conclusion we can say that Pam performs better at grouping the 0's and 1's in different clustres. However the ellipsoid shape of the clusters limits the ability to separate the two classes. We see in this example that other methods would be good to try - such as density based clustering or agglomerative clustering."
   ]
  },
  {
   "cell_type": "markdown",
   "metadata": {},
   "source": [
    "## Pathway analysis\n",
    "\n",
    "We are going to find pathways associated with the genes selected by bssWssFast. We have 100 of these genes, whose names are stored in geneNames.\n",
    "\n",
    "First we extract the gene names from the gene indexes provided by bss$ix.\n",
    "We make sure that the gene names are character strings (words).\n",
    "\n",
    "Remember that the genes are provided in TCGA by the hugo+code|entrez_code. Therefore we want to separate the two and split the name into hugo name and entrez name. \n",
    "\n",
    "We then pass the list of genes Entrez codes into 'enrichPathway' from 'ReactomePA' package. ReactomePA searches the reactome pathway database for pathways having these genes somewhere along their paths.  \n",
    "\n",
    "We then display the first 6 lines of 'paths'. There are 5 pathways matched by our genes, as we can see related to eNOS, nitric oxyde etc.\n",
    "\n"
   ]
  },
  {
   "cell_type": "code",
   "execution_count": null,
   "metadata": {
    "collapsed": false
   },
   "outputs": [],
   "source": [
    "# cell #14\n",
    "genes <- geneNames[bss$ix[1:100],1]\n",
    "genes <- as.character(genes)\n",
    "hugoNames <- lapply(genes, function(t) substr(t, 1, regexpr(\"\\\\|\", t) - 1))   # extract HUGO names\n",
    "entrezNames <- lapply(genes, function(t) substr(t, regexpr(\"\\\\|\", t) + 1, nchar(t)))  # extract Entrez names\n",
    "paths = enrichPathway(unlist(entrezNames), pvalueCutoff=1)\n",
    "head(summary(paths))"
   ]
  },
  {
   "cell_type": "markdown",
   "metadata": {},
   "source": [
    "You can also visualize the results in several different ways."
   ]
  },
  {
   "cell_type": "code",
   "execution_count": null,
   "metadata": {
    "collapsed": false
   },
   "outputs": [],
   "source": [
    "# cell #15\n",
    "enrichMap(paths, layout=igraph::layout.kamada.kawai, vertex.label.cex = 1)"
   ]
  }
 ],
 "metadata": {
  "anaconda-cloud": {},
  "kernelspec": {
   "display_name": "R",
   "language": "R",
   "name": "ir"
  },
  "language_info": {
   "codemirror_mode": "r",
   "file_extension": ".r",
   "mimetype": "text/x-r-source",
   "name": "R",
   "pygments_lexer": "r",
   "version": "3.2.2"
  }
 },
 "nbformat": 4,
 "nbformat_minor": 0
}
